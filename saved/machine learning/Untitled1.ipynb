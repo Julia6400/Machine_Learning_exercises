{
 "cells": [
  {
   "cell_type": "code",
   "execution_count": 77,
   "id": "323b4ca7",
   "metadata": {},
   "outputs": [],
   "source": [
    "# 1.Zaimplementuj Kmeans (ustaw init='random') clustering dla datasetu wine."
   ]
  },
  {
   "cell_type": "code",
   "execution_count": 78,
   "id": "8eb7ca60",
   "metadata": {},
   "outputs": [],
   "source": [
    "import numpy as np\n",
    "import matplotlib.pyplot as plt\n",
    "from sklearn.cluster import KMeans, MeanShift, estimate_bandwidth\n",
    "from sklearn.datasets import load_wine\n",
    "from sklearn.model_selection import train_test_split\n",
    "from sklearn.preprocessing import StandardScaler\n",
    "from sklearn.decomposition import PCA\n",
    "from sklearn.metrics import accuracy_score\n",
    "from itertools import cycle"
   ]
  },
  {
   "cell_type": "code",
   "execution_count": 79,
   "id": "59217697",
   "metadata": {},
   "outputs": [
    {
     "data": {
      "text/plain": [
       "['DESCR', 'data', 'feature_names', 'frame', 'target', 'target_names']"
      ]
     },
     "execution_count": 79,
     "metadata": {},
     "output_type": "execute_result"
    }
   ],
   "source": [
    "wine = load_wine()\n",
    "dir(wine)"
   ]
  },
  {
   "cell_type": "code",
   "execution_count": 80,
   "id": "9d1ef82f",
   "metadata": {},
   "outputs": [],
   "source": [
    "X, y = wine.data, wine.target"
   ]
  },
  {
   "cell_type": "code",
   "execution_count": 81,
   "id": "5e78a641",
   "metadata": {},
   "outputs": [],
   "source": [
    "X_train, X_test, y_train, y_test = train_test_split(X, y, test_size=0.2, random_state=seed)"
   ]
  },
  {
   "cell_type": "code",
   "execution_count": 82,
   "id": "222ccd98",
   "metadata": {},
   "outputs": [],
   "source": [
    "# - zmniejsz wymiar datasetu,  korzystając  StandardScaler oraz PCA(n_components=2, whiten=True) -> tylko do wizualizacji"
   ]
  },
  {
   "cell_type": "code",
   "execution_count": 83,
   "id": "f42d0a39",
   "metadata": {},
   "outputs": [],
   "source": [
    "# - narysuj wykres typu \"scatter\" -> sprawdź czy widać \"klastry\""
   ]
  },
  {
   "cell_type": "code",
   "execution_count": 84,
   "id": "bdf12445",
   "metadata": {},
   "outputs": [],
   "source": [
    "scaler = StandardScaler().fit(X_train)\n",
    "\n",
    "X_train_std = scaler.transform(X_train)\n",
    "X_test_std = scaler.transform(X_test)"
   ]
  },
  {
   "cell_type": "code",
   "execution_count": 85,
   "id": "f1792fcd",
   "metadata": {},
   "outputs": [
    {
     "name": "stdout",
     "output_type": "stream",
     "text": [
      "[0.35457889 0.19517779]\n",
      "[25.58422627 18.98152273]\n"
     ]
    }
   ],
   "source": [
    "pca = PCA(n_components=2, whiten=True)\n",
    "X_reducted = pca.fit_transform(X_train_std)\n",
    "\n",
    "print(pca.explained_variance_ratio_)\n",
    "print(pca.singular_values_)"
   ]
  },
  {
   "cell_type": "code",
   "execution_count": 86,
   "id": "95c9496e",
   "metadata": {
    "scrolled": false
   },
   "outputs": [
    {
     "data": {
      "text/plain": [
       "<matplotlib.collections.PathCollection at 0x1ac7c89ecd0>"
      ]
     },
     "execution_count": 86,
     "metadata": {},
     "output_type": "execute_result"
    },
    {
     "data": {
      "image/png": "[encoded data removed]",
      "text/plain": [
       "<Figure size 576x432 with 1 Axes>"
      ]
     },
     "metadata": {
      "needs_background": "light"
     },
     "output_type": "display_data"
    }
   ],
   "source": [
    "plt.figure(figsize=(8, 6))\n",
    "plt.scatter(X_reducted[:, 0], X_reducted[:, 1], s=100)"
   ]
  },
  {
   "cell_type": "code",
   "execution_count": 87,
   "id": "78bf6064",
   "metadata": {},
   "outputs": [],
   "source": [
    "# b) zastosowanie Kmeans (cały dataset):"
   ]
  },
  {
   "cell_type": "code",
   "execution_count": 88,
   "id": "84d4917b",
   "metadata": {},
   "outputs": [],
   "source": [
    "# korzystając z metody \"Elbow\" wyznacz najlepszą liczbę n_clusters (wykorzystaj for loop, np range(1,11)) \n",
    "# ->wykres (km.inertia_ vs n_clusters)"
   ]
  },
  {
   "cell_type": "code",
   "execution_count": 89,
   "id": "3109ca6a",
   "metadata": {},
   "outputs": [],
   "source": [
    "from sklearn.cluster import KMeans\n",
    "from sklearn import metrics\n",
    "from scipy.spatial.distance import cdist"
   ]
  },
  {
   "cell_type": "code",
   "execution_count": 90,
   "id": "01168cf1",
   "metadata": {},
   "outputs": [
    {
     "name": "stderr",
     "output_type": "stream",
     "text": [
      "C:\\Users\\48502\\miniconda3\\envs\\data_prep_ml\\lib\\site-packages\\sklearn\\cluster\\_kmeans.py:1036: UserWarning: KMeans is known to have a memory leak on Windows with MKL, when there are less chunks than available threads. You can avoid it by setting the environment variable OMP_NUM_THREADS=1.\n",
      "  warnings.warn(\n"
     ]
    },
    {
     "data": {
      "text/plain": [
       "Text(0, 0.5, 'Distortion')"
      ]
     },
     "execution_count": 90,
     "metadata": {},
     "output_type": "execute_result"
    },
    {
     "data": {
      "image/png": "[encoded data removed]",
      "text/plain": [
       "<Figure size 432x288 with 1 Axes>"
      ]
     },
     "metadata": {
      "needs_background": "light"
     },
     "output_type": "display_data"
    }
   ],
   "source": [
    "distortions = []\n",
    "K = range(1, 11)\n",
    "for k in K:\n",
    "    kmeanModel = KMeans(n_clusters=k)\n",
    "    kmeanModel.fit(X)\n",
    "    distortions.append(sum(np.min(cdist(X, kmeanModel.cluster_centers_, 'euclidean'), axis=1)) / X.shape[0])\n",
    "\n",
    "plt.plot(K, distortions, marker='o')\n",
    "plt.xlabel('Number of clusters')\n",
    "plt.ylabel('Distortion')"
   ]
  },
  {
   "cell_type": "code",
   "execution_count": 91,
   "id": "8ca3d734",
   "metadata": {},
   "outputs": [],
   "source": [
    "# - korzystając z metryki silhouette_score (wykorzystaj for loop, np range(1,11)), \n",
    "# ponownie znajdź najlepszą liczbę n_clusters i porównaj z met. powyżej -> wykres,"
   ]
  },
  {
   "cell_type": "code",
   "execution_count": 92,
   "id": "d62da29e",
   "metadata": {},
   "outputs": [
    {
     "name": "stdout",
     "output_type": "stream",
     "text": [
      "Score for cluster: = 2 is: 0.6568536504294317\n",
      "Score for cluster: = 3 is: 0.5711381937868837\n",
      "Score for cluster: = 4 is: 0.5620323449580342\n",
      "Score for cluster: = 5 is: 0.5489993239795675\n",
      "Score for cluster: = 6 is: 0.5656413100386369\n",
      "Score for cluster: = 7 is: 0.5616196384056884\n",
      "Score for cluster: = 8 is: 0.5406824747857603\n",
      "Score for cluster: = 9 is: 0.5316577207122215\n"
     ]
    },
    {
     "data": {
      "text/plain": [
       "Text(0, 0.5, 'Silhouette Score')"
      ]
     },
     "execution_count": 92,
     "metadata": {},
     "output_type": "execute_result"
    },
    {
     "data": {
      "image/png": "[encoded data removed]",
      "text/plain": [
       "<Figure size 432x288 with 1 Axes>"
      ]
     },
     "metadata": {
      "needs_background": "light"
     },
     "output_type": "display_data"
    }
   ],
   "source": [
    "range_n_clusters = list(range(2, 10))\n",
    "silhouette_score = []\n",
    "\n",
    "for n_clusters in range_n_clusters:\n",
    "    clusterer = KMeans(n_clusters=n_clusters, random_state=seed)\n",
    "    cluster_labels = clusterer.fit_predict(X)\n",
    "    silhouette_avg = metrics.silhouette_score(X, cluster_labels)\n",
    "    silhouette_score.append(silhouette_avg)\n",
    "    print(\"Score for cluster: =\", n_clusters,\n",
    "          \"is:\", silhouette_avg)\n",
    "    \n",
    "plt.plot(range_n_clusters, silhouette_score, marker='o')\n",
    "plt.xlabel('Number of clusters')\n",
    "plt.ylabel('Silhouette Score')"
   ]
  },
  {
   "cell_type": "code",
   "execution_count": 93,
   "id": "4fab306e",
   "metadata": {},
   "outputs": [
    {
     "data": {
      "text/plain": [
       "array([[-0.497221  ,  0.29047841],\n",
       "       [ 1.26791356, -0.74071995]])"
      ]
     },
     "execution_count": 93,
     "metadata": {},
     "output_type": "execute_result"
    }
   ],
   "source": [
    "km_cls = KMeans(\n",
    "    n_clusters=2,\n",
    "    init='random',\n",
    "    n_init=10,\n",
    "    max_iter=300,\n",
    "    random_state=seed\n",
    ")\n",
    "\n",
    "y_km = km_cls.fit_predict(X_reducted)\n",
    "km_cls.cluster_centers_"
   ]
  },
  {
   "cell_type": "code",
   "execution_count": 94,
   "id": "bf0607cf",
   "metadata": {},
   "outputs": [],
   "source": [
    "# - utwórz wykres typu \"scatter\", nadając każdemu punktowi kolor zgodny z danym klastrem"
   ]
  },
  {
   "cell_type": "code",
   "execution_count": 95,
   "id": "63c42e55",
   "metadata": {},
   "outputs": [
    {
     "data": {
      "image/png": "[encoded data removed]",
      "text/plain": [
       "<Figure size 720x576 with 1 Axes>"
      ]
     },
     "metadata": {
      "needs_background": "light"
     },
     "output_type": "display_data"
    }
   ],
   "source": [
    "plt.figure(figsize=(10, 8))\n",
    "\n",
    "plt.scatter(\n",
    "    X_reducted[y_km == 0, 0],\n",
    "    X_reducted[y_km == 0, 1],\n",
    "    c='green', edgecolor='black',\n",
    "    label='1', s=80\n",
    ")\n",
    "\n",
    "plt.scatter(\n",
    "    X_reducted[y_km == 1, 0],\n",
    "    X_reducted[y_km == 1, 1],\n",
    "    c='orange', edgecolor='black',\n",
    "    label='1', s=80\n",
    ")\n",
    "\n",
    "plt.scatter(\n",
    "    km_cls.cluster_centers_[:, 0],\n",
    "    km_cls.cluster_centers_[:, 1],\n",
    "    c='r', marker=\"o\", s=200, alpha=0.6,\n",
    "    edgecolor=\"black\", label='Cent'\n",
    ")\n",
    "\n",
    "plt.legend()\n",
    "plt.grid()"
   ]
  },
  {
   "cell_type": "code",
   "execution_count": 96,
   "id": "b97471c6",
   "metadata": {},
   "outputs": [],
   "source": [
    "# - wyznacz wartość accuracy, porównując numer klastra (wartość y_pred) z kolumną \"target\" ('y')"
   ]
  },
  {
   "cell_type": "code",
   "execution_count": 97,
   "id": "37ffc17a",
   "metadata": {},
   "outputs": [],
   "source": [
    "# - w algorytmie KMeans zmień init='random' na init='k-means++' i porównaj wyniki accuracy."
   ]
  },
  {
   "cell_type": "code",
   "execution_count": 98,
   "id": "99508030",
   "metadata": {},
   "outputs": [
    {
     "name": "stdout",
     "output_type": "stream",
     "text": [
      "Kmeans with init= random. ACC: 0.6573033707865169\n",
      "Kmeans with init= k-means++. ACC: 0.07303370786516854\n"
     ]
    }
   ],
   "source": [
    "init_list = [\"random\", \"k-means++\"]\n",
    "\n",
    "for i in init_list:\n",
    "    model = KMeans(\n",
    "        n_clusters=2,\n",
    "        init=i,\n",
    "        n_init=10,\n",
    "        max_iter=300,\n",
    "        random_state=seed\n",
    "    ) \n",
    "        \n",
    "    model.fit(X, y)\n",
    "    pred = model.predict(X)\n",
    "    print(f\"Kmeans with init= {i}. ACC: {accuracy_score(y, pred)}\")"
   ]
  },
  {
   "cell_type": "code",
   "execution_count": 99,
   "id": "0648a212",
   "metadata": {},
   "outputs": [
    {
     "name": "stdout",
     "output_type": "stream",
     "text": [
      "number of estimated clusters : 4\n"
     ]
    }
   ],
   "source": [
    "bandwidth = estimate_bandwidth(X, quantile=0.2, n_samples=500)\n",
    "\n",
    "ms = MeanShift(bandwidth=bandwidth, bin_seeding=True)\n",
    "ms.fit(X)\n",
    "labels = ms.labels_\n",
    "cluster_centers = ms.cluster_centers_\n",
    "\n",
    "labels_unique = np.unique(labels)\n",
    "n_clusters_ = len(labels_unique)\n",
    "\n",
    "print(\"number of estimated clusters : %d\" % n_clusters_)"
   ]
  },
  {
   "cell_type": "code",
   "execution_count": 100,
   "id": "02ada8e7",
   "metadata": {},
   "outputs": [
    {
     "data": {
      "text/plain": [
       "Text(0.5, 1.0, 'Estimated number of clusters: 4')"
      ]
     },
     "execution_count": 100,
     "metadata": {},
     "output_type": "execute_result"
    },
    {
     "data": {
      "image/png": "[encoded data removed]",
      "text/plain": [
       "<Figure size 720x576 with 1 Axes>"
      ]
     },
     "metadata": {
      "needs_background": "light"
     },
     "output_type": "display_data"
    }
   ],
   "source": [
    "plt.figure(figsize=(10, 8))\n",
    "plt.clf()\n",
    "\n",
    "colors = cycle('bgrcmykbgrcmykbgrcmykbgrcmyk')\n",
    "for k, col in zip(range(n_clusters_), colors):\n",
    "    my_members = labels == k\n",
    "    cluster_center = cluster_centers[k]\n",
    "    plt.plot(X[my_members, 0], X[my_members, 1], col + '.')\n",
    "    plt.plot(cluster_center[0], cluster_center[1], 'o', markerfacecolor=col,\n",
    "             markeredgecolor='k', markersize=14)\n",
    "plt.title('Estimated number of clusters: %d' % n_clusters_)"
   ]
  },
  {
   "cell_type": "code",
   "execution_count": null,
   "id": "4b254eb9",
   "metadata": {},
   "outputs": [],
   "source": []
  }
 ],
 "metadata": {
  "kernelspec": {
   "display_name": "firstEnv",
   "language": "python",
   "name": "firstenv"
  },
  "language_info": {
   "codemirror_mode": {
    "name": "ipython",
    "version": 3
   },
   "file_extension": ".py",
   "mimetype": "text/x-python",
   "name": "python",
   "nbconvert_exporter": "python",
   "pygments_lexer": "ipython3",
   "version": "3.9.0"
  }
 },
 "nbformat": 4,
 "nbformat_minor": 5
}
